{
 "cells": [
  {
   "cell_type": "markdown",
   "metadata": {},
   "source": [
    "<h3>Google Image Scraper for Juypter Notebook</h3>"
   ]
  },
  {
   "cell_type": "code",
   "execution_count": 1,
   "metadata": {},
   "outputs": [
    {
     "name": "stdout",
     "output_type": "stream",
     "text": [
      "[INFO] downloading chromedriver ver: : https://storage.googleapis.com/chrome-for-testing-public/123.0.6312.0/win32/chromedriver-win32.zip\n",
      "[Errno 2] No such file or directory: 'c:\\\\Users\\\\batkm\\\\Documents\\\\Github\\\\Google-Image-Scraper\\\\webdriver\\\\chromedriver-win32.zip'\n",
      "[WARN] unable to download lastest chromedriver. the system will use the local version instead.\n"
     ]
    },
    {
     "ename": "NameError",
     "evalue": "name 'exit' is not defined",
     "output_type": "error",
     "traceback": [
      "\u001b[1;31m---------------------------------------------------------------------------\u001b[0m",
      "\u001b[1;31mNameError\u001b[0m                                 Traceback (most recent call last)",
      "Cell \u001b[1;32mIn[1], line 16\u001b[0m\n\u001b[0;32m     14\u001b[0m max_resolution\u001b[38;5;241m=\u001b[39m(\u001b[38;5;241m1920\u001b[39m,\u001b[38;5;241m1080\u001b[39m)\n\u001b[0;32m     15\u001b[0m \u001b[38;5;28;01mfor\u001b[39;00m search_key \u001b[38;5;129;01min\u001b[39;00m search_keys:\n\u001b[1;32m---> 16\u001b[0m     image_scraper \u001b[38;5;241m=\u001b[39m \u001b[43mGoogleImageScraper\u001b[49m\u001b[43m(\u001b[49m\u001b[43mwebdriver_path\u001b[49m\u001b[43m,\u001b[49m\u001b[43mimage_path\u001b[49m\u001b[43m,\u001b[49m\u001b[43msearch_key\u001b[49m\u001b[43m,\u001b[49m\u001b[43mnumber_of_images\u001b[49m\u001b[43m,\u001b[49m\u001b[43mheadless\u001b[49m\u001b[43m,\u001b[49m\u001b[43mmin_resolution\u001b[49m\u001b[43m,\u001b[49m\u001b[43mmax_resolution\u001b[49m\u001b[43m)\u001b[49m\n\u001b[0;32m     17\u001b[0m     image_urls \u001b[38;5;241m=\u001b[39m image_scraper\u001b[38;5;241m.\u001b[39mfind_image_urls()\n\u001b[0;32m     18\u001b[0m     image_scraper\u001b[38;5;241m.\u001b[39msave_images(image_urls)\n",
      "File \u001b[1;32mc:\\Users\\batkm\\Documents\\Github\\Google-Image-Scraper\\GoogleImageScraper.py:43\u001b[0m, in \u001b[0;36mGoogleImageScraper.__init__\u001b[1;34m(self, webdriver_path, image_path, search_key, number_of_images, headless, min_resolution, max_resolution, max_missed)\u001b[0m\n\u001b[0;32m     41\u001b[0m     is_patched \u001b[38;5;241m=\u001b[39m patch\u001b[38;5;241m.\u001b[39mdownload_lastest_chromedriver()\n\u001b[0;32m     42\u001b[0m     \u001b[38;5;28;01mif\u001b[39;00m (\u001b[38;5;129;01mnot\u001b[39;00m is_patched):\n\u001b[1;32m---> 43\u001b[0m         \u001b[43mexit\u001b[49m(\u001b[38;5;124m\"\u001b[39m\u001b[38;5;124m[ERR] Please update the chromedriver.exe in the webdriver folder according to your chrome version:https://chromedriver.chromium.org/downloads\u001b[39m\u001b[38;5;124m\"\u001b[39m)\n\u001b[0;32m     45\u001b[0m \u001b[38;5;28;01mfor\u001b[39;00m i \u001b[38;5;129;01min\u001b[39;00m \u001b[38;5;28mrange\u001b[39m(\u001b[38;5;241m1\u001b[39m):\n\u001b[0;32m     46\u001b[0m     \u001b[38;5;28;01mtry\u001b[39;00m:\n\u001b[0;32m     47\u001b[0m         \u001b[38;5;66;03m#try going to www.google.com\u001b[39;00m\n",
      "\u001b[1;31mNameError\u001b[0m: name 'exit' is not defined"
     ]
    }
   ],
   "source": [
    "import os\n",
    "from GoogleImageScraper import GoogleImageScraper\n",
    "from patch import webdriver_executable\n",
    "\n",
    "webdriver_path = os.path.normpath(os.path.join(os.getcwd(), 'webdriver', webdriver_executable()))\n",
    "image_path = os.path.normpath(os.path.join(os.getcwd(), 'photos'))\n",
    "#add new search key into array [\"cat\",\"t-shirt\",\"apple\",\"orange\",\"pear\",\"fish\"]\n",
    "search_keys= [\"cat\",\"t-shirt\"]\n",
    "number_of_images = 20\n",
    "headless = False\n",
    "#min_resolution = (width,height)\n",
    "min_resolution=(0,0)\n",
    "#max_resolution = (width,height)\n",
    "max_resolution=(1920,1080)\n",
    "for search_key in search_keys:\n",
    "    image_scraper = GoogleImageScraper(webdriver_path,image_path,search_key,number_of_images,headless,min_resolution,max_resolution)\n",
    "    image_urls = image_scraper.find_image_urls()\n",
    "    image_scraper.save_images(image_urls)\n"
   ]
  },
  {
   "cell_type": "code",
   "execution_count": null,
   "metadata": {},
   "outputs": [],
   "source": []
  }
 ],
 "metadata": {
  "kernelspec": {
   "display_name": "Python 3 (ipykernel)",
   "language": "python",
   "name": "python3"
  },
  "language_info": {
   "codemirror_mode": {
    "name": "ipython",
    "version": 3
   },
   "file_extension": ".py",
   "mimetype": "text/x-python",
   "name": "python",
   "nbconvert_exporter": "python",
   "pygments_lexer": "ipython3",
   "version": "3.10.13"
  }
 },
 "nbformat": 4,
 "nbformat_minor": 4
}
